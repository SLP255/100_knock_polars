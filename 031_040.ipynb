{
 "cells": [
  {
   "cell_type": "code",
   "execution_count": 1,
   "id": "0a662ebc-3008-402b-a4cc-7ddf28f62fdf",
   "metadata": {
    "tags": []
   },
   "outputs": [],
   "source": [
    "import polars as pl"
   ]
  },
  {
   "cell_type": "code",
   "execution_count": 2,
   "id": "a293c49f-268f-4f31-8290-caea73d502f6",
   "metadata": {
    "tags": []
   },
   "outputs": [
    {
     "data": {
      "text/plain": [
       "polars.cfg.Config"
      ]
     },
     "execution_count": 2,
     "metadata": {},
     "output_type": "execute_result"
    }
   ],
   "source": [
    "# use fully print tables \n",
    "pl.Config.set_tbl_cols(-1)\n",
    "pl.Config.set_tbl_rows(-1)"
   ]
  },
  {
   "cell_type": "code",
   "execution_count": 3,
   "id": "39bfea18-93a7-47ec-afd5-d5805c33745a",
   "metadata": {
    "tags": []
   },
   "outputs": [],
   "source": [
    "df_receipt = pl.read_csv(\"ref_files/data/receipt.csv\")\n",
    "df_customer = pl.read_csv(\"ref_files/data/customer.csv\")\n",
    "df_store = pl.read_csv(\"ref_files/data/store.csv\")\n",
    "df_product = pl.read_csv(\"ref_files/data/product.csv\")\n",
    "df_category = pl.read_csv(\"ref_files/data/category.csv\")"
   ]
  },
  {
   "cell_type": "code",
   "execution_count": 4,
   "id": "398c2581-a34d-4b42-ae31-9621650893ee",
   "metadata": {
    "tags": []
   },
   "outputs": [
    {
     "name": "stdout",
     "output_type": "stream",
     "text": [
      "shape: (5, 2)\n",
      "┌──────────┬────────────┐\n",
      "│ store_cd ┆ amount     │\n",
      "│ ---      ┆ ---        │\n",
      "│ str      ┆ f64        │\n",
      "╞══════════╪════════════╡\n",
      "│ S13052   ┆ 663.391816 │\n",
      "│ S14011   ┆ 553.456916 │\n",
      "│ S14034   ┆ 544.903736 │\n",
      "│ S13001   ┆ 543.536561 │\n",
      "│ S13015   ┆ 543.409938 │\n",
      "└──────────┴────────────┘\n"
     ]
    }
   ],
   "source": [
    "# 031\n",
    "print(\n",
    "    df_receipt.groupby(\"store_cd\").agg([\n",
    "        # 自由度: 0\n",
    "        pl.col(\"amount\").std(ddof=0)\n",
    "    ]).sort(\"amount\", reverse=True).head(5)\n",
    ")"
   ]
  },
  {
   "cell_type": "code",
   "execution_count": 5,
   "id": "6b722e8c-22a9-46f5-8cd6-f66a61cd4d2b",
   "metadata": {
    "tags": []
   },
   "outputs": [
    {
     "name": "stdout",
     "output_type": "stream",
     "text": [
      "shape: (1, 5)\n",
      "┌──────┬───────┬───────┬───────┬─────────┐\n",
      "│ q_0  ┆ q_25  ┆ q_50  ┆ q_75  ┆ q_100   │\n",
      "│ ---  ┆ ---   ┆ ---   ┆ ---   ┆ ---     │\n",
      "│ f64  ┆ f64   ┆ f64   ┆ f64   ┆ f64     │\n",
      "╞══════╪═══════╪═══════╪═══════╪═════════╡\n",
      "│ 10.0 ┆ 102.0 ┆ 170.0 ┆ 288.0 ┆ 10925.0 │\n",
      "└──────┴───────┴───────┴───────┴─────────┘\n"
     ]
    }
   ],
   "source": [
    "# 032\n",
    "print(\n",
    "    df_receipt.select([\n",
    "        pl.col(\"amount\").quantile(0).alias(\"q_0\"),\n",
    "        pl.col(\"amount\").quantile(0.25).alias(\"q_25\"),\n",
    "        pl.col(\"amount\").quantile(0.50).alias(\"q_50\"),\n",
    "        pl.col(\"amount\").quantile(0.75).alias(\"q_75\"),\n",
    "        pl.col(\"amount\").quantile(1.00).alias(\"q_100\")\n",
    "    ])\n",
    ")"
   ]
  },
  {
   "cell_type": "code",
   "execution_count": 6,
   "id": "edea9b75-c258-49d4-b31a-b5befb5d1de4",
   "metadata": {
    "tags": []
   },
   "outputs": [
    {
     "name": "stdout",
     "output_type": "stream",
     "text": [
      "shape: (10, 2)\n",
      "┌──────────┬────────────┐\n",
      "│ store_cd ┆ amount     │\n",
      "│ ---      ┆ ---        │\n",
      "│ str      ┆ f64        │\n",
      "╞══════════╪════════════╡\n",
      "│ S13052   ┆ 402.86747  │\n",
      "│ S13015   ┆ 351.11196  │\n",
      "│ S13003   ┆ 350.915519 │\n",
      "│ S14010   ┆ 348.791262 │\n",
      "│ S13001   ┆ 348.470386 │\n",
      "│ S13020   ┆ 337.879932 │\n",
      "│ S14011   ┆ 335.718333 │\n",
      "│ S14026   ┆ 332.340588 │\n",
      "│ S13004   ┆ 330.943949 │\n",
      "│ S13019   ┆ 330.208616 │\n",
      "└──────────┴────────────┘\n"
     ]
    }
   ],
   "source": [
    "# 033\n",
    "print(\n",
    "    df_receipt.groupby(\"store_cd\").agg([\n",
    "        pl.col(\"amount\").mean()\n",
    "    ]).filter(\n",
    "        pl.col(\"amount\") >= 330\n",
    "    ).sort(\"amount\", reverse=True).head(10)\n",
    ")"
   ]
  },
  {
   "cell_type": "code",
   "execution_count": 7,
   "id": "3c92cb79-8356-4ddf-8bdf-7f58f363bd5f",
   "metadata": {
    "tags": []
   },
   "outputs": [
    {
     "name": "stdout",
     "output_type": "stream",
     "text": [
      "shape: (1, 1)\n",
      "┌─────────────┐\n",
      "│ amount      │\n",
      "│ ---         │\n",
      "│ f64         │\n",
      "╞═════════════╡\n",
      "│ 2547.742235 │\n",
      "└─────────────┘\n"
     ]
    }
   ],
   "source": [
    "# 034\n",
    "\n",
    "# Exprを変数化できるらしい\n",
    "is_not_member_expr = pl.col(\"customer_id\").str.starts_with(\"Z\").is_not()\n",
    "\n",
    "print(\n",
    "    df_receipt.filter(\n",
    "       is_not_member_expr\n",
    "    ).groupby(\n",
    "        \"customer_id\"\n",
    "    ).agg([\n",
    "        pl.col(\"amount\").sum()\n",
    "    ]).select([\n",
    "        pl.col(\"amount\").mean() \n",
    "    ])\n",
    ")"
   ]
  },
  {
   "cell_type": "code",
   "execution_count": 8,
   "id": "1ffc3cc8-03f0-4552-a93e-350c41fc4c8f",
   "metadata": {
    "tags": []
   },
   "outputs": [
    {
     "name": "stdout",
     "output_type": "stream",
     "text": [
      "shape: (10, 3)\n",
      "┌────────────────┬────────┬─────────────┐\n",
      "│ customer_id    ┆ amount ┆ mean_amount │\n",
      "│ ---            ┆ ---    ┆ ---         │\n",
      "│ str            ┆ i64    ┆ f64         │\n",
      "╞════════════════╪════════╪═════════════╡\n",
      "│ CS001115000010 ┆ 3044   ┆ 2547.742235 │\n",
      "│ CS001205000006 ┆ 3337   ┆ 2547.742235 │\n",
      "│ CS001214000009 ┆ 4685   ┆ 2547.742235 │\n",
      "│ CS001214000017 ┆ 4132   ┆ 2547.742235 │\n",
      "│ CS001214000052 ┆ 5639   ┆ 2547.742235 │\n",
      "│ CS001215000040 ┆ 3496   ┆ 2547.742235 │\n",
      "│ CS001304000006 ┆ 3726   ┆ 2547.742235 │\n",
      "│ CS001305000005 ┆ 3485   ┆ 2547.742235 │\n",
      "│ CS001305000011 ┆ 4370   ┆ 2547.742235 │\n",
      "│ CS001315000180 ┆ 3300   ┆ 2547.742235 │\n",
      "└────────────────┴────────┴─────────────┘\n"
     ]
    }
   ],
   "source": [
    "# 035\n",
    "print(\n",
    "    df_receipt.filter(\n",
    "       is_not_member_expr\n",
    "    ).groupby(\n",
    "        \"customer_id\"\n",
    "    ).agg([\n",
    "        pl.col(\"amount\").sum()\n",
    "    ]).with_columns(\n",
    "        pl.col(\"amount\").mean().alias(\"mean_amount\")\n",
    "    ).filter(\n",
    "        pl.col(\"amount\") >= pl.col(\"mean_amount\")\n",
    "    ).sort(\"customer_id\").head(10)\n",
    ")"
   ]
  },
  {
   "cell_type": "code",
   "execution_count": 9,
   "id": "2245c8b7-05f0-429f-8fd4-5792dc271fe8",
   "metadata": {
    "tags": []
   },
   "outputs": [
    {
     "name": "stdout",
     "output_type": "stream",
     "text": [
      "shape: (10, 10)\n",
      "┌─────────┬───────────┬────────┬──────────┬────────────┬───────────┬──────────┬────────┬────────┬──────────┐\n",
      "│ sales_y ┆ sales_epo ┆ store_ ┆ receipt_ ┆ receipt_su ┆ customer_ ┆ product_ ┆ quanti ┆ amount ┆ store_na │\n",
      "│ md      ┆ ch        ┆ cd     ┆ no       ┆ b_no       ┆ id        ┆ cd       ┆ ty     ┆ ---    ┆ me       │\n",
      "│ ---     ┆ ---       ┆ ---    ┆ ---      ┆ ---        ┆ ---       ┆ ---      ┆ ---    ┆ i64    ┆ ---      │\n",
      "│ i64     ┆ i64       ┆ str    ┆ i64      ┆ i64        ┆ str       ┆ str      ┆ i64    ┆        ┆ str      │\n",
      "╞═════════╪═══════════╪════════╪══════════╪════════════╪═══════════╪══════════╪════════╪════════╪══════════╡\n",
      "│ 2018110 ┆ 154120320 ┆ S14006 ┆ 112      ┆ 1          ┆ CS0062140 ┆ P0703050 ┆ 1      ┆ 158    ┆ 葛が谷店 │\n",
      "│ 3       ┆ 0         ┆        ┆          ┆            ┆ 00001     ┆ 12       ┆        ┆        ┆          │\n",
      "│ 2018111 ┆ 154249920 ┆ S13008 ┆ 1132     ┆ 2          ┆ CS0084150 ┆ P0707010 ┆ 1      ┆ 81     ┆ 成城店   │\n",
      "│ 8       ┆ 0         ┆        ┆          ┆            ┆ 00097     ┆ 17       ┆        ┆        ┆          │\n",
      "│ 2017071 ┆ 149981760 ┆ S14028 ┆ 1102     ┆ 1          ┆ CS0284140 ┆ P0601010 ┆ 1      ┆ 170    ┆ 二ツ橋店 │\n",
      "│ 2       ┆ 0         ┆        ┆          ┆            ┆ 00014     ┆ 05       ┆        ┆        ┆          │\n",
      "│ 2019020 ┆ 154932480 ┆ S14042 ┆ 1132     ┆ 1          ┆ ZZ0000000 ┆ P0503010 ┆ 1      ┆ 25     ┆ 新山下店 │\n",
      "│ 5       ┆ 0         ┆        ┆          ┆            ┆ 00000     ┆ 01       ┆        ┆        ┆          │\n",
      "│ 2018082 ┆ 153480960 ┆ S14025 ┆ 1102     ┆ 2          ┆ CS0254150 ┆ P0601020 ┆ 1      ┆ 90     ┆ 大和店   │\n",
      "│ 1       ┆ 0         ┆        ┆          ┆            ┆ 00050     ┆ 07       ┆        ┆        ┆          │\n",
      "│ 2019060 ┆ 155969280 ┆ S13003 ┆ 1112     ┆ 1          ┆ CS0035150 ┆ P0501020 ┆ 1      ┆ 138    ┆ 狛江店   │\n",
      "│ 5       ┆ 0         ┆        ┆          ┆            ┆ 00195     ┆ 02       ┆        ┆        ┆          │\n",
      "│ 2018120 ┆ 154396800 ┆ S14024 ┆ 1102     ┆ 2          ┆ CS0245140 ┆ P0801010 ┆ 1      ┆ 30     ┆ 三田店   │\n",
      "│ 5       ┆ 0         ┆        ┆          ┆            ┆ 00042     ┆ 05       ┆        ┆        ┆          │\n",
      "│ 2019092 ┆ 156911040 ┆ S14040 ┆ 1102     ┆ 1          ┆ CS0404150 ┆ P0705010 ┆ 1      ┆ 128    ┆ 長津田店 │\n",
      "│ 2       ┆ 0         ┆        ┆          ┆            ┆ 00178     ┆ 04       ┆        ┆        ┆          │\n",
      "│ 2017050 ┆ 149385600 ┆ S13020 ┆ 1112     ┆ 2          ┆ ZZ0000000 ┆ P0713020 ┆ 1      ┆ 770    ┆ 十条仲原 │\n",
      "│ 4       ┆ 0         ┆        ┆          ┆            ┆ 00000     ┆ 10       ┆        ┆        ┆ 店       │\n",
      "│ 2019101 ┆ 157066560 ┆ S14027 ┆ 1102     ┆ 1          ┆ CS0275140 ┆ P0711010 ┆ 1      ┆ 680    ┆ 南藤沢店 │\n",
      "│ 0       ┆ 0         ┆        ┆          ┆            ┆ 00015     ┆ 03       ┆        ┆        ┆          │\n",
      "└─────────┴───────────┴────────┴──────────┴────────────┴───────────┴──────────┴────────┴────────┴──────────┘\n"
     ]
    }
   ],
   "source": [
    "# 036\n",
    "print(\n",
    "    df_receipt.join(\n",
    "        df_store.select([\"store_cd\", \"store_name\"]), \n",
    "        how = \"inner\", \n",
    "        on = \"store_cd\"\n",
    "    ).head(10)\n",
    ")"
   ]
  },
  {
   "cell_type": "code",
   "execution_count": 10,
   "id": "1afc514e-36c4-473d-9326-f7eb1c407a47",
   "metadata": {
    "tags": []
   },
   "outputs": [
    {
     "name": "stdout",
     "output_type": "stream",
     "text": [
      "shape: (10, 7)\n",
      "┌────────────┬───────────────┬──────────────┬──────────────┬────────────┬───────────┬──────────────┐\n",
      "│ product_cd ┆ category_majo ┆ category_med ┆ category_sma ┆ unit_price ┆ unit_cost ┆ category_sma │\n",
      "│ ---        ┆ r_cd          ┆ ium_cd       ┆ ll_cd        ┆ ---        ┆ ---       ┆ ll_name      │\n",
      "│ str        ┆ ---           ┆ ---          ┆ ---          ┆ i64        ┆ i64       ┆ ---          │\n",
      "│            ┆ i64           ┆ i64          ┆ i64          ┆            ┆           ┆ str          │\n",
      "╞════════════╪═══════════════╪══════════════╪══════════════╪════════════╪═══════════╪══════════════╡\n",
      "│ P040101001 ┆ 4             ┆ 401          ┆ 40101        ┆ 198        ┆ 149       ┆ 弁当類       │\n",
      "│ P040101002 ┆ 4             ┆ 401          ┆ 40101        ┆ 218        ┆ 164       ┆ 弁当類       │\n",
      "│ P040101003 ┆ 4             ┆ 401          ┆ 40101        ┆ 230        ┆ 173       ┆ 弁当類       │\n",
      "│ P040101004 ┆ 4             ┆ 401          ┆ 40101        ┆ 248        ┆ 186       ┆ 弁当類       │\n",
      "│ P040101005 ┆ 4             ┆ 401          ┆ 40101        ┆ 268        ┆ 201       ┆ 弁当類       │\n",
      "│ P040101006 ┆ 4             ┆ 401          ┆ 40101        ┆ 298        ┆ 224       ┆ 弁当類       │\n",
      "│ P040101007 ┆ 4             ┆ 401          ┆ 40101        ┆ 338        ┆ 254       ┆ 弁当類       │\n",
      "│ P040101008 ┆ 4             ┆ 401          ┆ 40101        ┆ 420        ┆ 315       ┆ 弁当類       │\n",
      "│ P040101009 ┆ 4             ┆ 401          ┆ 40101        ┆ 498        ┆ 374       ┆ 弁当類       │\n",
      "│ P040101010 ┆ 4             ┆ 401          ┆ 40101        ┆ 580        ┆ 435       ┆ 弁当類       │\n",
      "└────────────┴───────────────┴──────────────┴──────────────┴────────────┴───────────┴──────────────┘\n"
     ]
    }
   ],
   "source": [
    "# 037\n",
    "print(\n",
    "    df_product.join(\n",
    "        df_category.select([\"category_small_cd\", \"category_small_name\"]), \n",
    "        how = \"inner\", \n",
    "        on = \"category_small_cd\"\n",
    "    ).head(10)\n",
    ")"
   ]
  },
  {
   "cell_type": "code",
   "execution_count": 40,
   "id": "1622f460-6219-490c-a5c0-2d365deb7d90",
   "metadata": {
    "tags": []
   },
   "outputs": [
    {
     "name": "stdout",
     "output_type": "stream",
     "text": [
      "shape: (10, 2)\n",
      "┌────────────────┬────────┐\n",
      "│ customer_id    ┆ amount │\n",
      "│ ---            ┆ ---    │\n",
      "│ str            ┆ i64    │\n",
      "╞════════════════╪════════╡\n",
      "│ CS015213000056 ┆ 0      │\n",
      "│ CS002712000013 ┆ 0      │\n",
      "│ CS028314000011 ┆ 188    │\n",
      "│ CS024411000003 ┆ 398    │\n",
      "│ CS023412000201 ┆ 0      │\n",
      "│ CS002512000420 ┆ 0      │\n",
      "│ CS005414000090 ┆ 5301   │\n",
      "│ CS011815000031 ┆ 0      │\n",
      "│ CS004414000089 ┆ 3557   │\n",
      "│ CS006515000237 ┆ 0      │\n",
      "└────────────────┴────────┘\n"
     ]
    }
   ],
   "source": [
    "# 038\n",
    "print(\n",
    "    df_customer.filter(\n",
    "        (pl.col(\"gender_cd\") == 1) &\n",
    "        (is_not_member_expr)\n",
    "    ).join(\n",
    "        df_receipt.select([\"customer_id\", \"amount\"]), \n",
    "        how = \"left\", \n",
    "        on = \"customer_id\"\n",
    "    )\n",
    "    .groupby(\"customer_id\")\n",
    "    .agg([\n",
    "        pl.col(\"amount\").sum().fill_null(0)\n",
    "    ]).head(10)\n",
    ")"
   ]
  },
  {
   "cell_type": "code",
   "execution_count": 47,
   "id": "5f6fbb02-c952-4eec-bcbc-b8ef18aa2f57",
   "metadata": {
    "tags": []
   },
   "outputs": [
    {
     "name": "stdout",
     "output_type": "stream",
     "text": [
      "shape: (34, 3)\n",
      "┌────────────────┬───────────┬────────┐\n",
      "│ customer_id    ┆ sales_ymd ┆ amount │\n",
      "│ ---            ┆ ---       ┆ ---    │\n",
      "│ str            ┆ u32       ┆ i64    │\n",
      "╞════════════════╪═══════════╪════════╡\n",
      "│ CS017415000097 ┆ 20        ┆ 23086  │\n",
      "│ CS015415000185 ┆ 22        ┆ 20153  │\n",
      "│ CS031414000051 ┆ 19        ┆ 19202  │\n",
      "│ CS028415000007 ┆ 21        ┆ 19127  │\n",
      "│ CS001605000009 ┆ null      ┆ 18925  │\n",
      "│ CS010214000010 ┆ 22        ┆ 18585  │\n",
      "│ CS016415000141 ┆ 20        ┆ 18372  │\n",
      "│ CS006515000023 ┆ null      ┆ 18372  │\n",
      "│ CS011414000106 ┆ null      ┆ 18338  │\n",
      "│ CS038415000104 ┆ null      ┆ 17847  │\n",
      "│ CS035414000024 ┆ null      ┆ 17615  │\n",
      "│ CS021515000089 ┆ null      ┆ 17580  │\n",
      "│ CS032414000072 ┆ null      ┆ 16563  │\n",
      "│ CS016415000101 ┆ null      ┆ 16348  │\n",
      "│ CS011415000006 ┆ null      ┆ 16094  │\n",
      "│ CS034415000047 ┆ null      ┆ 16083  │\n",
      "│ CS007514000094 ┆ null      ┆ 15735  │\n",
      "│ CS009414000059 ┆ null      ┆ 15492  │\n",
      "│ CS030415000034 ┆ null      ┆ 15468  │\n",
      "│ CS015515000034 ┆ null      ┆ 15300  │\n",
      "│ CS007515000107 ┆ 18        ┆ null   │\n",
      "│ CS021515000211 ┆ 18        ┆ null   │\n",
      "│ CS022515000226 ┆ 19        ┆ null   │\n",
      "│ CS030214000008 ┆ 18        ┆ null   │\n",
      "│ CS021515000056 ┆ 18        ┆ null   │\n",
      "│ CS010214000002 ┆ 21        ┆ null   │\n",
      "│ CS039414000052 ┆ 19        ┆ null   │\n",
      "│ CS040214000008 ┆ 23        ┆ null   │\n",
      "│ CS031414000073 ┆ 18        ┆ null   │\n",
      "│ CS032415000209 ┆ 18        ┆ null   │\n",
      "│ CS021514000045 ┆ 19        ┆ null   │\n",
      "│ CS014214000023 ┆ 19        ┆ null   │\n",
      "│ CS021515000172 ┆ 19        ┆ null   │\n",
      "│ CS022515000028 ┆ 18        ┆ null   │\n",
      "└────────────────┴───────────┴────────┘\n"
     ]
    }
   ],
   "source": [
    "# 039\n",
    "df_a = df_receipt.filter((is_not_member_expr)).groupby(\"customer_id\").agg(\n",
    "        pl.col(\"sales_ymd\").n_unique()\n",
    "    ).sort(\n",
    "        \"sales_ymd\", reverse=True\n",
    "    ).head(20)\n",
    "\n",
    "df_b = df_receipt.filter((is_not_member_expr)).groupby(\"customer_id\").agg(\n",
    "        pl.col(\"amount\").sum()\n",
    "    ).sort(\n",
    "        \"amount\", reverse=True\n",
    "    ).head(20)\n",
    "\n",
    "print(\n",
    "    df_a.join(\n",
    "        df_b,\n",
    "        on = \"customer_id\",\n",
    "        how = \"outer\"\n",
    "    )\n",
    ")"
   ]
  },
  {
   "cell_type": "code",
   "execution_count": 55,
   "id": "f435f482-9411-4393-86e2-cdded084ccaa",
   "metadata": {
    "tags": []
   },
   "outputs": [
    {
     "data": {
      "text/plain": [
       "(531590, 17)"
      ]
     },
     "execution_count": 55,
     "metadata": {},
     "output_type": "execute_result"
    }
   ],
   "source": [
    "# 040\n",
    "(\n",
    "    df_store.with_column(pl.lit(0).alias(\"key\")).join(\n",
    "        df_product.with_column(pl.lit(0).alias(\"key\")),\n",
    "        on = \"key\",\n",
    "        how = \"outer\"\n",
    "    )\n",
    ").shape"
   ]
  },
  {
   "cell_type": "code",
   "execution_count": null,
   "id": "0c3092c2-13e1-46d8-85f6-1f2dc112990d",
   "metadata": {},
   "outputs": [],
   "source": []
  }
 ],
 "metadata": {
  "kernelspec": {
   "display_name": "Python 3 (ipykernel)",
   "language": "python",
   "name": "python3"
  },
  "language_info": {
   "codemirror_mode": {
    "name": "ipython",
    "version": 3
   },
   "file_extension": ".py",
   "mimetype": "text/x-python",
   "name": "python",
   "nbconvert_exporter": "python",
   "pygments_lexer": "ipython3",
   "version": "3.11.0"
  }
 },
 "nbformat": 4,
 "nbformat_minor": 5
}
