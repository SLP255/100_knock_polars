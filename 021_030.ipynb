{
 "cells": [
  {
   "cell_type": "code",
   "execution_count": 3,
   "id": "fdc5d894-ddd6-42f0-9aee-4fdba0cffd14",
   "metadata": {
    "tags": []
   },
   "outputs": [],
   "source": [
    "import polars as pl"
   ]
  },
  {
   "cell_type": "code",
   "execution_count": 4,
   "id": "f5f57afe-5e65-4409-afd9-431af1562866",
   "metadata": {
    "tags": []
   },
   "outputs": [
    {
     "data": {
      "text/plain": [
       "polars.cfg.Config"
      ]
     },
     "execution_count": 4,
     "metadata": {},
     "output_type": "execute_result"
    }
   ],
   "source": [
    "# use fully print tables \n",
    "pl.Config.set_tbl_cols(-1)\n",
    "pl.Config.set_tbl_rows(-1)"
   ]
  },
  {
   "cell_type": "code",
   "execution_count": 5,
   "id": "3904e4f0-6659-4bf6-a476-c4266dadc3fa",
   "metadata": {
    "tags": []
   },
   "outputs": [
    {
     "name": "stdout",
     "output_type": "stream",
     "text": [
      "shape: (1, 1)\n",
      "┌────────┐\n",
      "│ count  │\n",
      "│ ---    │\n",
      "│ u32    │\n",
      "╞════════╡\n",
      "│ 104681 │\n",
      "└────────┘\n"
     ]
    }
   ],
   "source": [
    "# 021\n",
    "df_receipt = pl.read_csv(\"ref_files/data/receipt.csv\")\n",
    "print(\n",
    "    df_receipt.select(pl.count())\n",
    ")"
   ]
  },
  {
   "cell_type": "code",
   "execution_count": 44,
   "id": "8f41f798-6720-4473-a16b-0584c32b5bb1",
   "metadata": {
    "tags": []
   },
   "outputs": [
    {
     "name": "stdout",
     "output_type": "stream",
     "text": [
      "shape: (1, 1)\n",
      "┌─────────────┐\n",
      "│ customer_id │\n",
      "│ ---         │\n",
      "│ u32         │\n",
      "╞═════════════╡\n",
      "│ 8307        │\n",
      "└─────────────┘\n"
     ]
    }
   ],
   "source": [
    "# 022\n",
    "print(\n",
    "    df_receipt.select(pl.col(\"customer_id\").n_unique())\n",
    ")"
   ]
  },
  {
   "cell_type": "code",
   "execution_count": 11,
   "id": "e2008a4e-8c4c-4def-b57f-b108ed3b8405",
   "metadata": {
    "tags": []
   },
   "outputs": [
    {
     "name": "stdout",
     "output_type": "stream",
     "text": [
      "shape: (10, 3)\n",
      "┌──────────┬────────┬──────────┐\n",
      "│ store_cd ┆ amount ┆ quantity │\n",
      "│ ---      ┆ ---    ┆ ---      │\n",
      "│ str      ┆ i64    ┆ i64      │\n",
      "╞══════════╪════════╪══════════╡\n",
      "│ S14023   ┆ 727630 ┆ 2258     │\n",
      "│ S14049   ┆ 230808 ┆ 788      │\n",
      "│ S13019   ┆ 827833 ┆ 2541     │\n",
      "│ S13031   ┆ 705968 ┆ 2336     │\n",
      "│ S13035   ┆ 715869 ┆ 2219     │\n",
      "│ S14026   ┆ 824537 ┆ 2503     │\n",
      "│ S14010   ┆ 790361 ┆ 2290     │\n",
      "│ S14006   ┆ 712839 ┆ 2284     │\n",
      "│ S13018   ┆ 790535 ┆ 2562     │\n",
      "│ S12029   ┆ 794741 ┆ 2555     │\n",
      "└──────────┴────────┴──────────┘\n"
     ]
    }
   ],
   "source": [
    "# 023\n",
    "print(\n",
    "    df_receipt.groupby(\"store_cd\").agg(\n",
    "        [\n",
    "            pl.col(\"amount\").sum(),\n",
    "            pl.col(\"quantity\").sum()\n",
    "        ]).head(10)\n",
    ")"
   ]
  },
  {
   "cell_type": "code",
   "execution_count": 22,
   "id": "c072a9fa-64c6-4072-b04b-809114dce223",
   "metadata": {
    "tags": []
   },
   "outputs": [
    {
     "name": "stdout",
     "output_type": "stream",
     "text": [
      "shape: (10, 2)\n",
      "┌────────────────┬───────────┐\n",
      "│ customer_id    ┆ sales_ymd │\n",
      "│ ---            ┆ ---       │\n",
      "│ str            ┆ i64       │\n",
      "╞════════════════╪═══════════╡\n",
      "│ CS001113000004 ┆ 20190308  │\n",
      "│ CS001114000005 ┆ 20190731  │\n",
      "│ CS001115000010 ┆ 20190405  │\n",
      "│ CS001205000004 ┆ 20190625  │\n",
      "│ CS001205000006 ┆ 20190224  │\n",
      "│ CS001211000025 ┆ 20190322  │\n",
      "│ CS001212000027 ┆ 20170127  │\n",
      "│ CS001212000031 ┆ 20180906  │\n",
      "│ CS001212000046 ┆ 20170811  │\n",
      "│ CS001212000070 ┆ 20191018  │\n",
      "└────────────────┴───────────┘\n"
     ]
    }
   ],
   "source": [
    "# 024\n",
    "print(\n",
    "    df_receipt.groupby(\"customer_id\").agg(\n",
    "        [\n",
    "            pl.col(\"sales_ymd\").max(),\n",
    "        ]).sort(\"customer_id\").head(10)\n",
    ")"
   ]
  },
  {
   "cell_type": "code",
   "execution_count": 21,
   "id": "79ee8098-7e05-4f50-ad81-54fff2f368ef",
   "metadata": {
    "tags": []
   },
   "outputs": [
    {
     "name": "stdout",
     "output_type": "stream",
     "text": [
      "shape: (10, 2)\n",
      "┌────────────────┬───────────┐\n",
      "│ customer_id    ┆ sales_ymd │\n",
      "│ ---            ┆ ---       │\n",
      "│ str            ┆ i64       │\n",
      "╞════════════════╪═══════════╡\n",
      "│ CS001113000004 ┆ 20190308  │\n",
      "│ CS001114000005 ┆ 20180503  │\n",
      "│ CS001115000010 ┆ 20171228  │\n",
      "│ CS001205000004 ┆ 20170914  │\n",
      "│ CS001205000006 ┆ 20180207  │\n",
      "│ CS001211000025 ┆ 20190322  │\n",
      "│ CS001212000027 ┆ 20170127  │\n",
      "│ CS001212000031 ┆ 20180906  │\n",
      "│ CS001212000046 ┆ 20170811  │\n",
      "│ CS001212000070 ┆ 20191018  │\n",
      "└────────────────┴───────────┘\n"
     ]
    }
   ],
   "source": [
    "# 025\n",
    "print(\n",
    "    df_receipt.groupby(\"customer_id\").agg(\n",
    "        [\n",
    "            pl.col(\"sales_ymd\").min(),\n",
    "        ]).sort(\"customer_id\").head(10)\n",
    ")"
   ]
  },
  {
   "cell_type": "code",
   "execution_count": 23,
   "id": "fa77fba8-14d5-4680-bfea-54d34e8c7bf1",
   "metadata": {
    "tags": []
   },
   "outputs": [
    {
     "name": "stdout",
     "output_type": "stream",
     "text": [
      "shape: (10, 3)\n",
      "┌────────────────┬──────────────────┬──────────────────┐\n",
      "│ customer_id    ┆ latest_sales_ymd ┆ oldest_sales_ymd │\n",
      "│ ---            ┆ ---              ┆ ---              │\n",
      "│ str            ┆ i64              ┆ i64              │\n",
      "╞════════════════╪══════════════════╪══════════════════╡\n",
      "│ CS001114000005 ┆ 20190731         ┆ 20180503         │\n",
      "│ CS001115000010 ┆ 20190405         ┆ 20171228         │\n",
      "│ CS001205000004 ┆ 20190625         ┆ 20170914         │\n",
      "│ CS001205000006 ┆ 20190224         ┆ 20180207         │\n",
      "│ CS001214000009 ┆ 20190902         ┆ 20170306         │\n",
      "│ CS001214000017 ┆ 20191006         ┆ 20180828         │\n",
      "│ CS001214000048 ┆ 20190929         ┆ 20171109         │\n",
      "│ CS001214000052 ┆ 20190617         ┆ 20180208         │\n",
      "│ CS001215000005 ┆ 20181021         ┆ 20170206         │\n",
      "│ CS001215000040 ┆ 20171022         ┆ 20170214         │\n",
      "└────────────────┴──────────────────┴──────────────────┘\n"
     ]
    }
   ],
   "source": [
    "# 026\n",
    "print(\n",
    "    df_receipt.groupby(\"customer_id\").agg(\n",
    "        [\n",
    "            pl.col(\"sales_ymd\").max().alias(\"latest_sales_ymd\"),\n",
    "            pl.col(\"sales_ymd\").min().alias(\"oldest_sales_ymd\"),\n",
    "        ]).filter(\n",
    "            pl.col(\"latest_sales_ymd\") != pl.col(\"oldest_sales_ymd\")\n",
    "        ).sort(\"customer_id\").head(10)\n",
    ")"
   ]
  },
  {
   "cell_type": "code",
   "execution_count": 25,
   "id": "28b21398-5602-4dde-96b8-4b408fdeeb7c",
   "metadata": {
    "tags": []
   },
   "outputs": [
    {
     "name": "stdout",
     "output_type": "stream",
     "text": [
      "shape: (10, 2)\n",
      "┌──────────┬────────────┐\n",
      "│ store_cd ┆ amount     │\n",
      "│ ---      ┆ ---        │\n",
      "│ str      ┆ f64        │\n",
      "╞══════════╪════════════╡\n",
      "│ S13052   ┆ 402.86747  │\n",
      "│ S13015   ┆ 351.11196  │\n",
      "│ S13003   ┆ 350.915519 │\n",
      "│ S14010   ┆ 348.791262 │\n",
      "│ S13001   ┆ 348.470386 │\n",
      "│ S13020   ┆ 337.879932 │\n",
      "│ S14011   ┆ 335.718333 │\n",
      "│ S14026   ┆ 332.340588 │\n",
      "│ S13004   ┆ 330.943949 │\n",
      "│ S13019   ┆ 330.208616 │\n",
      "└──────────┴────────────┘\n"
     ]
    }
   ],
   "source": [
    "# 027\n",
    "print(\n",
    "    df_receipt.groupby(\"store_cd\").agg(\n",
    "        [\n",
    "            pl.col(\"amount\").mean(),\n",
    "        ]).sort(\"amount\", reverse=True).head(10)\n",
    ")"
   ]
  },
  {
   "cell_type": "code",
   "execution_count": 26,
   "id": "c3b9072b-3e2d-4fa1-ad46-4d30fedb3ca0",
   "metadata": {
    "tags": []
   },
   "outputs": [
    {
     "name": "stdout",
     "output_type": "stream",
     "text": [
      "shape: (10, 2)\n",
      "┌──────────┬────────┐\n",
      "│ store_cd ┆ amount │\n",
      "│ ---      ┆ ---    │\n",
      "│ str      ┆ f64    │\n",
      "╞══════════╪════════╡\n",
      "│ S13052   ┆ 190.0  │\n",
      "│ S14010   ┆ 188.0  │\n",
      "│ S14050   ┆ 185.0  │\n",
      "│ S13003   ┆ 180.0  │\n",
      "│ S13018   ┆ 180.0  │\n",
      "│ S14040   ┆ 180.0  │\n",
      "│ S14033   ┆ 179.0  │\n",
      "│ S13008   ┆ 179.0  │\n",
      "│ S13035   ┆ 178.0  │\n",
      "│ S14025   ┆ 178.0  │\n",
      "└──────────┴────────┘\n"
     ]
    }
   ],
   "source": [
    "# 028\n",
    "print(\n",
    "    df_receipt.groupby(\"store_cd\").agg(\n",
    "        [\n",
    "            pl.col(\"amount\").median(),\n",
    "        ]).sort(\"amount\", reverse=True).head(10)\n",
    ")"
   ]
  },
  {
   "cell_type": "code",
   "execution_count": 41,
   "id": "c92ac82e-ded1-4245-b95b-2afa37d3bded",
   "metadata": {
    "tags": []
   },
   "outputs": [
    {
     "name": "stdout",
     "output_type": "stream",
     "text": [
      "shape: (10, 2)\n",
      "┌──────────┬────────────┐\n",
      "│ store_cd ┆ product_cd │\n",
      "│ ---      ┆ ---        │\n",
      "│ str      ┆ str        │\n",
      "╞══════════╪════════════╡\n",
      "│ S12007   ┆ P060303001 │\n",
      "│ S12013   ┆ P060303001 │\n",
      "│ S12014   ┆ P060303001 │\n",
      "│ S12029   ┆ P060303001 │\n",
      "│ S12030   ┆ P060303001 │\n",
      "│ S13001   ┆ P060303001 │\n",
      "│ S13002   ┆ P060303001 │\n",
      "│ S13003   ┆ P071401001 │\n",
      "│ S13004   ┆ P060303001 │\n",
      "│ S13005   ┆ P040503001 │\n",
      "└──────────┴────────────┘\n"
     ]
    }
   ],
   "source": [
    "# 029\n",
    "print(\n",
    "    df_receipt.groupby(\"store_cd\").agg(\n",
    "        [\n",
    "            pl.col(\"product_cd\").mode().first(),\n",
    "        ]).sort(\"store_cd\").head(10)\n",
    ")"
   ]
  },
  {
   "cell_type": "code",
   "execution_count": 43,
   "id": "9c4fd52f-bce0-494a-acb3-691d12bb752c",
   "metadata": {
    "tags": []
   },
   "outputs": [
    {
     "name": "stdout",
     "output_type": "stream",
     "text": [
      "shape: (5, 2)\n",
      "┌──────────┬───────────────┐\n",
      "│ store_cd ┆ amount        │\n",
      "│ ---      ┆ ---           │\n",
      "│ str      ┆ f64           │\n",
      "╞══════════╪═══════════════╡\n",
      "│ S13052   ┆ 440088.701311 │\n",
      "│ S14011   ┆ 306314.558164 │\n",
      "│ S14034   ┆ 296920.081011 │\n",
      "│ S13001   ┆ 295431.993329 │\n",
      "│ S13015   ┆ 295294.361116 │\n",
      "└──────────┴───────────────┘\n"
     ]
    }
   ],
   "source": [
    "# 030\n",
    "print(\n",
    "    df_receipt.groupby(\"store_cd\").agg(\n",
    "        [\n",
    "            # 自由度: 0\n",
    "            pl.col(\"amount\").var(ddof=0),\n",
    "        ]).sort(\"amount\", reverse=True).head(5)\n",
    ")"
   ]
  }
 ],
 "metadata": {
  "kernelspec": {
   "display_name": "Python 3 (ipykernel)",
   "language": "python",
   "name": "python3"
  },
  "language_info": {
   "codemirror_mode": {
    "name": "ipython",
    "version": 3
   },
   "file_extension": ".py",
   "mimetype": "text/x-python",
   "name": "python",
   "nbconvert_exporter": "python",
   "pygments_lexer": "ipython3",
   "version": "3.11.0"
  }
 },
 "nbformat": 4,
 "nbformat_minor": 5
}
